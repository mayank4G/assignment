{
 "cells": [
  {
   "cell_type": "code",
   "execution_count": 11,
   "metadata": {},
   "outputs": [
    {
     "name": "stdout",
     "output_type": "stream",
     "text": [
      "2002,2009,2016,2023,2037,2044,2051,2058,2072,2079,2086,2093,2107,2114,2121,2128,2142,2149,2156,2163,2177,2184,2191,2198,2212,2219,2226,2233,2247,2254,2261,2268,2282,2289,2296,2303,2317,2324,2331,2338,2352,2359,2366,2373,2387,2394,2401,2408,2422,2429,2436,2443,2457,2464,2471,2478,2492,2499,2506,2513,2527,2534,2541,2548,2562,2569,2576,2583,2597,2604,2611,2618,2632,2639,2646,2653,2667,2674,2681,2688,2702,2709,2716,2723,2737,2744,2751,2758,2772,2779,2786,2793,2807,2814,2821,2828,2842,2849,2856,2863,2877,2884,2891,2898,2912,2919,2926,2933,2947,2954,2961,2968,2982,2989,2996,3003,3017,3024,3031,3038,3052,3059,3066,3073,3087,3094,3101,3108,3122,3129,3136,3143,3157,3164,3171,3178,3192,3199\n"
     ]
    }
   ],
   "source": [
    "############## program 1##########\n",
    "def divisibleBy(a,b):\n",
    "    my_list = list(range(a,b+1))\n",
    "    newList = []\n",
    "    for item in my_list:\n",
    "        if item %5 != 0 and item % 7 == 0:\n",
    "            newList.append(item)\n",
    "    string = \",\".join(map(str, newList))\n",
    "    print(string)\n",
    "divisibleBy(2000, 3200)"
   ]
  },
  {
   "cell_type": "code",
   "execution_count": 12,
   "metadata": {},
   "outputs": [
    {
     "name": "stdout",
     "output_type": "stream",
     "text": [
      "Enter first name: mayank\n",
      "Enter lst name: porwal\n",
      "knayam lawrop\n"
     ]
    }
   ],
   "source": [
    "####### program 2########\n",
    "def reverse(s):\n",
    "    str =''\n",
    "    for i in s:\n",
    "        str = i + str\n",
    "    return str\n",
    "\n",
    "fname = input(\"Enter first name: \")\n",
    "lname = input(\"Enter lst name: \")\n",
    "\n",
    "print(reverse(fname) , reverse(lname))"
   ]
  },
  {
   "cell_type": "code",
   "execution_count": 13,
   "metadata": {},
   "outputs": [
    {
     "name": "stdout",
     "output_type": "stream",
     "text": [
      "7238.229473870882\n"
     ]
    }
   ],
   "source": [
    "## program 3 ####\n",
    "import math\n",
    "\n",
    "def volume(r):\n",
    "    r= float(r)\n",
    "    out = 4.0/3.0 * math.pi * (r*r*r)\n",
    "    return out\n",
    "\n",
    "print(volume(12))"
   ]
  },
  {
   "cell_type": "code",
   "execution_count": null,
   "metadata": {},
   "outputs": [],
   "source": []
  }
 ],
 "metadata": {
  "kernelspec": {
   "display_name": "Python 3",
   "language": "python",
   "name": "python3"
  },
  "language_info": {
   "codemirror_mode": {
    "name": "ipython",
    "version": 3
   },
   "file_extension": ".py",
   "mimetype": "text/x-python",
   "name": "python",
   "nbconvert_exporter": "python",
   "pygments_lexer": "ipython3",
   "version": "3.7.1"
  }
 },
 "nbformat": 4,
 "nbformat_minor": 2
}
