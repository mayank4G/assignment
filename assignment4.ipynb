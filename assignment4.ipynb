{
 "cells": [
  {
   "cell_type": "code",
   "execution_count": 18,
   "metadata": {},
   "outputs": [
    {
     "name": "stdout",
     "output_type": "stream",
     "text": [
      "Enter 1st: 3\n",
      "Enter 2nd: 3\n",
      "Enter 3rd: 3\n",
      "3.897114317029974\n"
     ]
    }
   ],
   "source": [
    "########### prog 1.1 ########\n",
    "import math\n",
    "s1 = float(input(\"Enter 1st: \"))\n",
    "s2 = float(input(\"Enter 2nd: \"))\n",
    "s3 = float(input(\"Enter 3rd: \"))\n",
    "\n",
    "class takeInput:\n",
    "    def __init__(self,s1,s2,s3):      \n",
    "        self.s1 = s1\n",
    "        self.s2 = s2\n",
    "        self.s3 = s3 \n",
    "\n",
    "class triangle(takeInput): \n",
    "    def __init__(self,s1,s2,s3):\n",
    "        takeInput.__init__(self,s1,s2,s3)\n",
    "\n",
    "    def area(self):        \n",
    "        s = (self.s1 + self.s2 + self.s3)/2\n",
    "        return (s*(s-self.s1)*(s-self.s2)*(s-self.s3))**0.5\n",
    "\n",
    "t = triangle(s1,s2,s3)\n",
    "print(t.area())"
   ]
  },
  {
   "cell_type": "code",
   "execution_count": 19,
   "metadata": {},
   "outputs": [
    {
     "data": {
      "text/plain": [
       "['asddd', 'eweda', 'gaddaa', 'wefcszd', 'wqasa', 'gfdss']"
      ]
     },
     "execution_count": 19,
     "metadata": {},
     "output_type": "execute_result"
    }
   ],
   "source": [
    "### prog 1.2 ########\n",
    "def filter_long_words(lst, n):\n",
    "    l = []\n",
    "    [ l.append(i) for i in lst if len(i) > n ]\n",
    "    return l\n",
    "\n",
    "a = ['add','asddd','eweda','gaddaa','wefcszd','wqasa','gfdss']\n",
    "\n",
    "\n",
    "filter_long_words(a,4)"
   ]
  },
  {
   "cell_type": "code",
   "execution_count": 20,
   "metadata": {},
   "outputs": [
    {
     "data": {
      "text/plain": [
       "[3, 5, 5, 6, 7, 5, 5]"
      ]
     },
     "execution_count": 20,
     "metadata": {},
     "output_type": "execute_result"
    }
   ],
   "source": [
    "########### prog 2.1 ########\n",
    "def lenCountListWords(lst):\n",
    "    l = []\n",
    "    [ l.append(len(i)) for i in lst]\n",
    "    return l\n",
    "a = ['add','asddd','eweda','gaddaa','wefcszd','wqasa','gfdss']\n",
    "lenCountListWords(a)"
   ]
  },
  {
   "cell_type": "code",
   "execution_count": 17,
   "metadata": {},
   "outputs": [
    {
     "data": {
      "text/plain": [
       "False"
      ]
     },
     "execution_count": 17,
     "metadata": {},
     "output_type": "execute_result"
    }
   ],
   "source": [
    "########### prog 2.2 ########\n",
    "\n",
    "def printVowel(ch):\n",
    "    lvowel = ['a', 'e', 'i', 'o', 'u']\n",
    "    uvowel = ['A', 'E', 'I', 'O', 'U']\n",
    "    if (ch in lvowel) or (ch in uvowel):\n",
    "        return True\n",
    "    else:\n",
    "        return False\n",
    "\n",
    "printVowel('W')"
   ]
  },
  {
   "cell_type": "code",
   "execution_count": null,
   "metadata": {},
   "outputs": [],
   "source": []
  }
 ],
 "metadata": {
  "kernelspec": {
   "display_name": "Python 3",
   "language": "python",
   "name": "python3"
  },
  "language_info": {
   "codemirror_mode": {
    "name": "ipython",
    "version": 3
   },
   "file_extension": ".py",
   "mimetype": "text/x-python",
   "name": "python",
   "nbconvert_exporter": "python",
   "pygments_lexer": "ipython3",
   "version": "3.7.1"
  }
 },
 "nbformat": 4,
 "nbformat_minor": 2
}
